{
 "cells": [
  {
   "cell_type": "code",
   "execution_count": 8,
   "metadata": {},
   "outputs": [],
   "source": [
    "\n",
    "import pandas as pd     #(version 1.0.0)\n",
    "\n",
    "df2 = pd.read_csv('dataset.csv')\n",
    "df2['timestamp'] = pd.to_datetime(df2['timestamp'], format='%Y-%m-%d %H:%M:%S')\n",
    "df2.sort_values(by=[\"timestamp\"], ascending=True, inplace = True)\n",
    "\n",
    "\n",
    "df2['hour'] = df2.timestamp.dt.hour\n",
    "df2['month'] = df2.timestamp.dt.month\n",
    "df2[\"year\"] = df2.timestamp.dt.year\n",
    "df2[\"day\"] = df2.timestamp.dt.floor('d')\n",
    "\n",
    "df2.to_csv(\"dataset_with_timestamp\", index = False, encoding='utf-8')\n",
    "\n",
    "# df_hour = df_hour.drop(['timestamp'], axis=1)\n",
    "# df_hour = df_hour.groupby(['hour', 'country']).mean().reset_index()\n",
    "# df_hour.head()"
   ]
  },
  {
   "cell_type": "code",
   "execution_count": 7,
   "metadata": {},
   "outputs": [],
   "source": [
    "df = pd.read_csv(\"dataset_with_timestamp\")[:100000]\n",
    "df.to_csv(\"light2\", index = False, encoding='utf-8')"
   ]
  },
  {
   "cell_type": "code",
   "execution_count": 6,
   "metadata": {},
   "outputs": [
    {
     "name": "stdout",
     "output_type": "stream",
     "text": [
      "Dash is running on http://127.0.0.1:8083/\n",
      "\n",
      "Dash is running on http://127.0.0.1:8083/\n",
      "\n",
      "Dash is running on http://127.0.0.1:8083/\n",
      "\n",
      "Dash is running on http://127.0.0.1:8083/\n",
      "\n",
      "Dash is running on http://127.0.0.1:8083/\n",
      "\n",
      "Dash is running on http://127.0.0.1:8083/\n",
      "\n",
      " * Serving Flask app '__main__'\n",
      " * Debug mode: on\n"
     ]
    },
    {
     "name": "stderr",
     "output_type": "stream",
     "text": [
      "C:\\Users\\Alban\\AppData\\Local\\Temp\\ipykernel_18292\\1995583757.py:20: FutureWarning:\n",
      "\n",
      "The default value of numeric_only in DataFrameGroupBy.mean is deprecated. In a future version, numeric_only will default to False. Either specify numeric_only or select only columns which should be valid for the function.\n",
      "\n",
      "C:\\Users\\Alban\\AppData\\Local\\Temp\\ipykernel_18292\\1995583757.py:21: FutureWarning:\n",
      "\n",
      "The default value of numeric_only in DataFrameGroupBy.mean is deprecated. In a future version, numeric_only will default to False. Either specify numeric_only or select only columns which should be valid for the function.\n",
      "\n",
      "C:\\Users\\Alban\\AppData\\Local\\Temp\\ipykernel_18292\\1995583757.py:22: FutureWarning:\n",
      "\n",
      "The default value of numeric_only in DataFrameGroupBy.mean is deprecated. In a future version, numeric_only will default to False. Either specify numeric_only or select only columns which should be valid for the function.\n",
      "\n"
     ]
    },
    {
     "ename": "SystemExit",
     "evalue": "1",
     "output_type": "error",
     "traceback": [
      "An exception has occurred, use %tb to see the full traceback.\n",
      "\u001b[1;31mSystemExit\u001b[0m\u001b[1;31m:\u001b[0m 1\n"
     ]
    },
    {
     "name": "stderr",
     "output_type": "stream",
     "text": [
      "c:\\Users\\Alban\\OneDrive - Ecole Polytechnique\\wind solar ressources\\.venv\\lib\\site-packages\\IPython\\core\\interactiveshell.py:3386: UserWarning:\n",
      "\n",
      "To exit: use 'exit', 'quit', or Ctrl-D.\n",
      "\n"
     ]
    }
   ],
   "source": [
    "# Environment used: dash1_8_0_env\n",
    "import pandas as pd     #(version 1.0.0)\n",
    "import plotly           #(version 4.5.0)\n",
    "import plotly.express as px\n",
    "\n",
    "import dash             #(version 1.8.0)\n",
    "import dash_core_components as dcc\n",
    "import dash_html_components as html\n",
    "from dash.dependencies import Input, Output, State\n",
    "from dash.exceptions import PreventUpdate\n",
    "# print(px.data.gapminder()[:15])\n",
    "\n",
    "\n",
    "app = dash.Dash(__name__, external_stylesheets=None)\n",
    "\n",
    "\n",
    "df = pd.read_csv(\"light\")[:1000]\n",
    "\n",
    "df_dict = {\n",
    "    \"hour\" : df.drop(['timestamp'], axis=1).groupby(['hour', 'country']).mean().reset_index(),\n",
    "    \"month\" : df.drop(['timestamp'], axis=1).groupby(['month', 'country']).mean().reset_index(),\n",
    "    \"year\" : df.drop(['timestamp'], axis=1).groupby(['year', 'country']).mean().reset_index(),\n",
    "    \"day\" : df.drop(['timestamp'], axis=1).groupby(['day', 'country']).mean().reset_index()\n",
    "}\n",
    "\n",
    "#---------------------------------------------------------------\n",
    "app.layout = html.Div([\n",
    "    html.H1(id='test'),\n",
    "    html.Div([\n",
    "        dcc.Graph(id='the_graph')\n",
    "    ]),\n",
    "\n",
    "    html.Div([\n",
    "            dcc.RadioItems(['year', 'month','hour'], inline=True, id=\"period_radio\", value = \"year\"), \n",
    "    ],style={'text-align': 'center'}),\n",
    "\n",
    "])\n",
    "\n",
    "\n",
    "#---------------------------------------------------------------\n",
    "\n",
    "\n",
    "\n",
    "@app.callback( \n",
    "    Output(component_id='the_graph', component_property='figure'),\n",
    "    Input(component_id='period_radio', component_property='value')\n",
    ")\n",
    "\n",
    "def update_output(period_radio):\n",
    "    if period_radio is None:\n",
    "        raise PreventUpdate\n",
    "    else:\n",
    "\n",
    "\n",
    "        fig=px.choropleth_mapbox(df_dict[period_radio],\n",
    "             geojson=\"https://raw.githubusercontent.com/leakyMirror/map-of-europe/master/GeoJSON/europe.geojson\",\n",
    "             featureidkey='properties.ISO2',   \n",
    "             locations='country',        #column in dataframe\n",
    "             # animation_group ='Area_Name',       #dataframe\n",
    "             animation_frame =period_radio,       #dataframe\n",
    "              color='capacity_factor',  #dataframe\n",
    "                 range_color=[0,0.5],\n",
    "                 zoom=1, center = {\"lat\": 56.4, \"lon\": 15.0},\n",
    "                 mapbox_style=\"carto-positron\",\n",
    "                 color_continuous_scale=\"Viridis\",\n",
    "                 opacity = 0.5,\n",
    "\n",
    "     \n",
    "               title='' ,  \n",
    "              )\n",
    "        fig.update_layout(\n",
    "        title={\"text\" :'Average capacity factor of European countries for different hours of the day (Period 1979-2019)'})\n",
    "\n",
    "\n",
    "        return  fig\n",
    "\n",
    "\n",
    "@app.callback(\n",
    "Output(\"test\", \"children\"), \n",
    "Input(\"the_graph\", \"hoverData\"))\n",
    "def print_hover(hover):\n",
    "    if hover is None :\n",
    "        raise PreventUpdate\n",
    "    return hover[\"points\"][0][\"location\"]\n",
    "    \n",
    "\n",
    "\n",
    "if __name__ == '__main__' :\n",
    "    app.run_server(port=8083, debug=True, use_reloader=True)"
   ]
  }
 ],
 "metadata": {
  "kernelspec": {
   "display_name": "Python 3.10.8 ('.venv': venv)",
   "language": "python",
   "name": "python3"
  },
  "language_info": {
   "codemirror_mode": {
    "name": "ipython",
    "version": 3
   },
   "file_extension": ".py",
   "mimetype": "text/x-python",
   "name": "python",
   "nbconvert_exporter": "python",
   "pygments_lexer": "ipython3",
   "version": "3.10.8"
  },
  "orig_nbformat": 4,
  "vscode": {
   "interpreter": {
    "hash": "6e0fb3d500518b8fdf80c1de73c9d1da3acdcd362038a20d067764449d389e5b"
   }
  }
 },
 "nbformat": 4,
 "nbformat_minor": 2
}
