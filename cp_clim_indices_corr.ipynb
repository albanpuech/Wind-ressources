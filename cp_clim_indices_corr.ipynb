{
 "cells": [
  {
   "cell_type": "code",
   "execution_count": 2,
   "metadata": {},
   "outputs": [],
   "source": [
    "import pandas as pd     \n",
    "import matplotlib.pyplot as plt"
   ]
  },
  {
   "cell_type": "code",
   "execution_count": 3,
   "metadata": {},
   "outputs": [],
   "source": [
    "df_cp = pd.read_csv(\"dataset_with_timestamp\")\n",
    "df_cp = df_cp.drop(['hour', 'month', 'year', 'day'], axis=1)"
   ]
  },
  {
   "cell_type": "code",
   "execution_count": 4,
   "metadata": {},
   "outputs": [],
   "source": [
    "df_cp['timestamp'] = pd.to_datetime(df_cp['timestamp'], format='%Y-%m-%d %H:%M:%S')\n"
   ]
  },
  {
   "cell_type": "code",
   "execution_count": 5,
   "metadata": {},
   "outputs": [],
   "source": [
    "df_cp = df_cp.groupby([\"timestamp\",\"country\"]).mean().reset_index()\n",
    "df_cp = df_cp.set_axis(df_cp.timestamp)\n",
    "df_cp = df_cp.drop([\"timestamp\"], axis=1)"
   ]
  },
  {
   "cell_type": "code",
   "execution_count": 6,
   "metadata": {},
   "outputs": [],
   "source": [
    "df_indices = pd.read_csv(\"daily_indices_82_to_19.csv\")\n",
    "df_indices['timestamp'] = pd.to_datetime(df_indices['timestamp'], format='%Y-%m-%d')\n",
    "df_indices = df_indices[[\"timestamp\",\"nao\", \"nino34\", \"ao\"]]\n",
    "df_indices = df_indices.set_axis(df_indices.timestamp)\n",
    "df_indices = df_indices.drop([\"timestamp\"], axis=1)\n",
    "\n",
    "\n",
    "\n"
   ]
  },
  {
   "cell_type": "code",
   "execution_count": 7,
   "metadata": {},
   "outputs": [],
   "source": [
    "def normalize(df, how=\"min-max\"):\n",
    "    if how == \"min_max\" :\n",
    "        return (df - df.min())/(df.max()-df.min())\n",
    "    if how == \"mean\" :\n",
    "        return (df-df.mean())/df.std()\n",
    "\n"
   ]
  },
  {
   "cell_type": "code",
   "execution_count": 31,
   "metadata": {},
   "outputs": [],
   "source": [
    "def get_cp_indices_df(df_cp, df_indices, selected_coutry = None, data_resolution = \"M\") :\n",
    "\n",
    "\n",
    "    if not selected_coutry : selected_coutry = df_cp.country.unique()\n",
    "\n",
    "    df_cp_filter = df_cp[df_cp.country.isin(selected_coutry) ]\n",
    "    df_cp_filter = df_cp_filter.groupby([df_cp_filter.index.to_period(data_resolution)]).mean().reset_index()\n",
    "    df_cp_filter = df_cp_filter.set_index(df_cp_filter.timestamp).drop([\"timestamp\"], axis=1)\n",
    "\n",
    "\n",
    "\n",
    "    df_indices_filter = df_indices.groupby([df_indices.index.to_period(data_resolution)]).mean().reset_index()\n",
    "    df_indices_filter = df_indices_filter.set_index(df_indices_filter.timestamp).drop([\"timestamp\"], axis=1)\n",
    "\n",
    "\n",
    "    df_indices_filter = normalize(df_indices_filter, how=\"mean\")\n",
    "    df_cp_filter.capacity_factor = normalize(df_cp_filter.capacity_factor, how=\"mean\")\n",
    "\n",
    "    df_cp_indices = df_cp_filter.join(df_indices_filter)\n",
    "\n",
    "    return df_cp_indices\n",
    "\n",
    "    \n",
    "\n",
    "def compare_cp_index(df_cp_indices, smooth = 6, indices = None, start=1990, end=2019, show_plot = True):\n",
    "    if indices : \n",
    "        df_cp_indices = df_cp_indices[indices+[\"capacity_factor\"]] \n",
    "    df_cp_indices = df_cp_indices[(df_cp_indices.index.year > start) & (df_cp_indices.index.year < end)]\n",
    "    df_cp_indices = df_cp_indices.rolling(smooth, center=True).mean()\n",
    "    \n",
    "    if show_plot : df_cp_indices.plot(figsize=(20,10))\n",
    "    \n",
    "    return df_cp_indices.corr().capacity_factor\n",
    " \n",
    "\n",
    "\n",
    "\n",
    "\n",
    "\n",
    "\n",
    "\n"
   ]
  },
  {
   "cell_type": "code",
   "execution_count": 32,
   "metadata": {},
   "outputs": [
    {
     "name": "stderr",
     "output_type": "stream",
     "text": [
      "C:\\Users\\Alban\\AppData\\Local\\Temp\\ipykernel_20364\\210496198.py:7: FutureWarning: The default value of numeric_only in DataFrameGroupBy.mean is deprecated. In a future version, numeric_only will default to False. Either specify numeric_only or select only columns which should be valid for the function.\n",
      "  df_cp_filter = df_cp_filter.groupby([df_cp_filter.index.to_period(data_resolution)]).mean().reset_index()\n",
      "C:\\Users\\Alban\\AppData\\Local\\Temp\\ipykernel_20364\\210496198.py:7: FutureWarning: The default value of numeric_only in DataFrameGroupBy.mean is deprecated. In a future version, numeric_only will default to False. Either specify numeric_only or select only columns which should be valid for the function.\n",
      "  df_cp_filter = df_cp_filter.groupby([df_cp_filter.index.to_period(data_resolution)]).mean().reset_index()\n",
      "C:\\Users\\Alban\\AppData\\Local\\Temp\\ipykernel_20364\\210496198.py:7: FutureWarning: The default value of numeric_only in DataFrameGroupBy.mean is deprecated. In a future version, numeric_only will default to False. Either specify numeric_only or select only columns which should be valid for the function.\n",
      "  df_cp_filter = df_cp_filter.groupby([df_cp_filter.index.to_period(data_resolution)]).mean().reset_index()\n",
      "C:\\Users\\Alban\\AppData\\Local\\Temp\\ipykernel_20364\\210496198.py:7: FutureWarning: The default value of numeric_only in DataFrameGroupBy.mean is deprecated. In a future version, numeric_only will default to False. Either specify numeric_only or select only columns which should be valid for the function.\n",
      "  df_cp_filter = df_cp_filter.groupby([df_cp_filter.index.to_period(data_resolution)]).mean().reset_index()\n",
      "C:\\Users\\Alban\\AppData\\Local\\Temp\\ipykernel_20364\\210496198.py:7: FutureWarning: The default value of numeric_only in DataFrameGroupBy.mean is deprecated. In a future version, numeric_only will default to False. Either specify numeric_only or select only columns which should be valid for the function.\n",
      "  df_cp_filter = df_cp_filter.groupby([df_cp_filter.index.to_period(data_resolution)]).mean().reset_index()\n",
      "C:\\Users\\Alban\\AppData\\Local\\Temp\\ipykernel_20364\\210496198.py:7: FutureWarning: The default value of numeric_only in DataFrameGroupBy.mean is deprecated. In a future version, numeric_only will default to False. Either specify numeric_only or select only columns which should be valid for the function.\n",
      "  df_cp_filter = df_cp_filter.groupby([df_cp_filter.index.to_period(data_resolution)]).mean().reset_index()\n",
      "C:\\Users\\Alban\\AppData\\Local\\Temp\\ipykernel_20364\\210496198.py:7: FutureWarning: The default value of numeric_only in DataFrameGroupBy.mean is deprecated. In a future version, numeric_only will default to False. Either specify numeric_only or select only columns which should be valid for the function.\n",
      "  df_cp_filter = df_cp_filter.groupby([df_cp_filter.index.to_period(data_resolution)]).mean().reset_index()\n",
      "C:\\Users\\Alban\\AppData\\Local\\Temp\\ipykernel_20364\\210496198.py:7: FutureWarning: The default value of numeric_only in DataFrameGroupBy.mean is deprecated. In a future version, numeric_only will default to False. Either specify numeric_only or select only columns which should be valid for the function.\n",
      "  df_cp_filter = df_cp_filter.groupby([df_cp_filter.index.to_period(data_resolution)]).mean().reset_index()\n",
      "C:\\Users\\Alban\\AppData\\Local\\Temp\\ipykernel_20364\\210496198.py:7: FutureWarning: The default value of numeric_only in DataFrameGroupBy.mean is deprecated. In a future version, numeric_only will default to False. Either specify numeric_only or select only columns which should be valid for the function.\n",
      "  df_cp_filter = df_cp_filter.groupby([df_cp_filter.index.to_period(data_resolution)]).mean().reset_index()\n",
      "C:\\Users\\Alban\\AppData\\Local\\Temp\\ipykernel_20364\\210496198.py:7: FutureWarning: The default value of numeric_only in DataFrameGroupBy.mean is deprecated. In a future version, numeric_only will default to False. Either specify numeric_only or select only columns which should be valid for the function.\n",
      "  df_cp_filter = df_cp_filter.groupby([df_cp_filter.index.to_period(data_resolution)]).mean().reset_index()\n",
      "C:\\Users\\Alban\\AppData\\Local\\Temp\\ipykernel_20364\\210496198.py:7: FutureWarning: The default value of numeric_only in DataFrameGroupBy.mean is deprecated. In a future version, numeric_only will default to False. Either specify numeric_only or select only columns which should be valid for the function.\n",
      "  df_cp_filter = df_cp_filter.groupby([df_cp_filter.index.to_period(data_resolution)]).mean().reset_index()\n",
      "C:\\Users\\Alban\\AppData\\Local\\Temp\\ipykernel_20364\\210496198.py:7: FutureWarning: The default value of numeric_only in DataFrameGroupBy.mean is deprecated. In a future version, numeric_only will default to False. Either specify numeric_only or select only columns which should be valid for the function.\n",
      "  df_cp_filter = df_cp_filter.groupby([df_cp_filter.index.to_period(data_resolution)]).mean().reset_index()\n",
      "C:\\Users\\Alban\\AppData\\Local\\Temp\\ipykernel_20364\\210496198.py:7: FutureWarning: The default value of numeric_only in DataFrameGroupBy.mean is deprecated. In a future version, numeric_only will default to False. Either specify numeric_only or select only columns which should be valid for the function.\n",
      "  df_cp_filter = df_cp_filter.groupby([df_cp_filter.index.to_period(data_resolution)]).mean().reset_index()\n",
      "C:\\Users\\Alban\\AppData\\Local\\Temp\\ipykernel_20364\\210496198.py:7: FutureWarning: The default value of numeric_only in DataFrameGroupBy.mean is deprecated. In a future version, numeric_only will default to False. Either specify numeric_only or select only columns which should be valid for the function.\n",
      "  df_cp_filter = df_cp_filter.groupby([df_cp_filter.index.to_period(data_resolution)]).mean().reset_index()\n",
      "C:\\Users\\Alban\\AppData\\Local\\Temp\\ipykernel_20364\\210496198.py:7: FutureWarning: The default value of numeric_only in DataFrameGroupBy.mean is deprecated. In a future version, numeric_only will default to False. Either specify numeric_only or select only columns which should be valid for the function.\n",
      "  df_cp_filter = df_cp_filter.groupby([df_cp_filter.index.to_period(data_resolution)]).mean().reset_index()\n",
      "C:\\Users\\Alban\\AppData\\Local\\Temp\\ipykernel_20364\\210496198.py:7: FutureWarning: The default value of numeric_only in DataFrameGroupBy.mean is deprecated. In a future version, numeric_only will default to False. Either specify numeric_only or select only columns which should be valid for the function.\n",
      "  df_cp_filter = df_cp_filter.groupby([df_cp_filter.index.to_period(data_resolution)]).mean().reset_index()\n",
      "C:\\Users\\Alban\\AppData\\Local\\Temp\\ipykernel_20364\\210496198.py:7: FutureWarning: The default value of numeric_only in DataFrameGroupBy.mean is deprecated. In a future version, numeric_only will default to False. Either specify numeric_only or select only columns which should be valid for the function.\n",
      "  df_cp_filter = df_cp_filter.groupby([df_cp_filter.index.to_period(data_resolution)]).mean().reset_index()\n",
      "C:\\Users\\Alban\\AppData\\Local\\Temp\\ipykernel_20364\\210496198.py:7: FutureWarning: The default value of numeric_only in DataFrameGroupBy.mean is deprecated. In a future version, numeric_only will default to False. Either specify numeric_only or select only columns which should be valid for the function.\n",
      "  df_cp_filter = df_cp_filter.groupby([df_cp_filter.index.to_period(data_resolution)]).mean().reset_index()\n",
      "C:\\Users\\Alban\\AppData\\Local\\Temp\\ipykernel_20364\\210496198.py:7: FutureWarning: The default value of numeric_only in DataFrameGroupBy.mean is deprecated. In a future version, numeric_only will default to False. Either specify numeric_only or select only columns which should be valid for the function.\n",
      "  df_cp_filter = df_cp_filter.groupby([df_cp_filter.index.to_period(data_resolution)]).mean().reset_index()\n",
      "C:\\Users\\Alban\\AppData\\Local\\Temp\\ipykernel_20364\\210496198.py:7: FutureWarning: The default value of numeric_only in DataFrameGroupBy.mean is deprecated. In a future version, numeric_only will default to False. Either specify numeric_only or select only columns which should be valid for the function.\n",
      "  df_cp_filter = df_cp_filter.groupby([df_cp_filter.index.to_period(data_resolution)]).mean().reset_index()\n",
      "C:\\Users\\Alban\\AppData\\Local\\Temp\\ipykernel_20364\\210496198.py:7: FutureWarning: The default value of numeric_only in DataFrameGroupBy.mean is deprecated. In a future version, numeric_only will default to False. Either specify numeric_only or select only columns which should be valid for the function.\n",
      "  df_cp_filter = df_cp_filter.groupby([df_cp_filter.index.to_period(data_resolution)]).mean().reset_index()\n",
      "C:\\Users\\Alban\\AppData\\Local\\Temp\\ipykernel_20364\\210496198.py:7: FutureWarning: The default value of numeric_only in DataFrameGroupBy.mean is deprecated. In a future version, numeric_only will default to False. Either specify numeric_only or select only columns which should be valid for the function.\n",
      "  df_cp_filter = df_cp_filter.groupby([df_cp_filter.index.to_period(data_resolution)]).mean().reset_index()\n",
      "C:\\Users\\Alban\\AppData\\Local\\Temp\\ipykernel_20364\\210496198.py:7: FutureWarning: The default value of numeric_only in DataFrameGroupBy.mean is deprecated. In a future version, numeric_only will default to False. Either specify numeric_only or select only columns which should be valid for the function.\n",
      "  df_cp_filter = df_cp_filter.groupby([df_cp_filter.index.to_period(data_resolution)]).mean().reset_index()\n",
      "C:\\Users\\Alban\\AppData\\Local\\Temp\\ipykernel_20364\\210496198.py:7: FutureWarning: The default value of numeric_only in DataFrameGroupBy.mean is deprecated. In a future version, numeric_only will default to False. Either specify numeric_only or select only columns which should be valid for the function.\n",
      "  df_cp_filter = df_cp_filter.groupby([df_cp_filter.index.to_period(data_resolution)]).mean().reset_index()\n",
      "C:\\Users\\Alban\\AppData\\Local\\Temp\\ipykernel_20364\\210496198.py:7: FutureWarning: The default value of numeric_only in DataFrameGroupBy.mean is deprecated. In a future version, numeric_only will default to False. Either specify numeric_only or select only columns which should be valid for the function.\n",
      "  df_cp_filter = df_cp_filter.groupby([df_cp_filter.index.to_period(data_resolution)]).mean().reset_index()\n",
      "C:\\Users\\Alban\\AppData\\Local\\Temp\\ipykernel_20364\\210496198.py:7: FutureWarning: The default value of numeric_only in DataFrameGroupBy.mean is deprecated. In a future version, numeric_only will default to False. Either specify numeric_only or select only columns which should be valid for the function.\n",
      "  df_cp_filter = df_cp_filter.groupby([df_cp_filter.index.to_period(data_resolution)]).mean().reset_index()\n",
      "C:\\Users\\Alban\\AppData\\Local\\Temp\\ipykernel_20364\\210496198.py:7: FutureWarning: The default value of numeric_only in DataFrameGroupBy.mean is deprecated. In a future version, numeric_only will default to False. Either specify numeric_only or select only columns which should be valid for the function.\n",
      "  df_cp_filter = df_cp_filter.groupby([df_cp_filter.index.to_period(data_resolution)]).mean().reset_index()\n",
      "C:\\Users\\Alban\\AppData\\Local\\Temp\\ipykernel_20364\\210496198.py:7: FutureWarning: The default value of numeric_only in DataFrameGroupBy.mean is deprecated. In a future version, numeric_only will default to False. Either specify numeric_only or select only columns which should be valid for the function.\n",
      "  df_cp_filter = df_cp_filter.groupby([df_cp_filter.index.to_period(data_resolution)]).mean().reset_index()\n"
     ]
    }
   ],
   "source": [
    "corr = dict()\n",
    "for selected_country in df_cp.country.unique() :\n",
    "    df_cp_indices = get_cp_indices_df(df_cp, df_indices, selected_coutry=[selected_country])\n",
    "    corr[selected_country] = compare_cp_index(df_cp_indices, indices=[\"nao\"], start = 1990, show_plot= False)[\"nao\"]\n"
   ]
  },
  {
   "cell_type": "code",
   "execution_count": 33,
   "metadata": {},
   "outputs": [
    {
     "data": {
      "text/plain": [
       "{'IE': 0.497551919105371,\n",
       " 'NO': 0.48966756031794023,\n",
       " 'GB': 0.4783587327173552,\n",
       " 'SE': 0.46613097787351493,\n",
       " 'FI': 0.4550933392400904,\n",
       " 'CZ': 0.42883171383907975,\n",
       " 'DE': 0.4254985033654943,\n",
       " 'PL': 0.4098411573298391,\n",
       " 'SK': 0.4048360942268869,\n",
       " 'AT': 0.4012089301629372,\n",
       " 'DK': 0.3929787400477672,\n",
       " 'NL': 0.3850794639957258,\n",
       " 'LT': 0.37981257593935885,\n",
       " 'LV': 0.37154786268273016,\n",
       " 'CH': 0.35820622485962794,\n",
       " 'BE': 0.3574535867591478,\n",
       " 'LU': 0.3384334981262021,\n",
       " 'RO': 0.33466507358409037,\n",
       " 'FR': 0.3265600944824543,\n",
       " 'BG': 0.3177197528694933,\n",
       " 'HU': 0.3092285207665751,\n",
       " 'ME': 0.28145732395211454,\n",
       " 'HR': 0.2520786442341703,\n",
       " 'IT': 0.24460186720282978,\n",
       " 'GR': 0.14712866626563129,\n",
       " 'ES': 0.14450530554525023,\n",
       " 'SI': 0.13438264088370092,\n",
       " 'PT': 0.0839553177606717}"
      ]
     },
     "execution_count": 33,
     "metadata": {},
     "output_type": "execute_result"
    }
   ],
   "source": [
    "dict(sorted(corr.items(), key=lambda item: item[1])[::-1])"
   ]
  }
 ],
 "metadata": {
  "kernelspec": {
   "display_name": "Python 3.10.8 ('.venv': venv)",
   "language": "python",
   "name": "python3"
  },
  "language_info": {
   "codemirror_mode": {
    "name": "ipython",
    "version": 3
   },
   "file_extension": ".py",
   "mimetype": "text/x-python",
   "name": "python",
   "nbconvert_exporter": "python",
   "pygments_lexer": "ipython3",
   "version": "3.10.8"
  },
  "orig_nbformat": 4,
  "vscode": {
   "interpreter": {
    "hash": "7ec23cb47e1bd6008d2d63c180077ff8a56d2bab3559a5d1e2b1ee51d899b782"
   }
  }
 },
 "nbformat": 4,
 "nbformat_minor": 2
}
